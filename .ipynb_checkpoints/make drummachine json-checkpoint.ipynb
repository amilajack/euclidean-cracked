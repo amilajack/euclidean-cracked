{
 "cells": [
  {
   "cell_type": "code",
   "execution_count": 2,
   "metadata": {
    "collapsed": true
   },
   "outputs": [],
   "source": [
    "# https://codepen.io/jamesstaub/pen/ZjypBX?editors=1111\n",
    "fns = [\n",
    "    \"Producer kits/A97_74_HhS1_eLAB_HitzOn.wav\",\n",
    "    \"Producer kits/A97_75_HhH1_eLAB_HotDog.wav\",\n",
    "    \"Producer kits/A97_76_HhS3_eLAB_HotDog.wav\",\n",
    "    \"Producer kits/A97_77_HhH1_eLAB_ANuDay.wav\",\n",
    "    \"Roland/Roland F-30 drums/MaxV - F30 - 05.wav\",\n",
    "    \"Roland/Roland F-30 drums/MaxV - F30 - 06.wav\",\n",
    "    \"Roland/Roland JD-800/JD800 Dance Card Drums 001.wav\",\n",
    "    \"Roland/Roland JD-800/JD800 Dance Card Drums 002.wav\",\n",
    "    \"Roland/Roland JD-800/JD800 Dance Card Drums 003.wav\",\n",
    "    \"Roland/Roland R-8/R-8 Kit 03/Percussion/Cabasa1.wav\",\n",
    "    \"Roland/Roland R-8/R-8 Kit 03/Percussion/Cabasa2.wav\",\n",
    "    \"Roland/Roland R-8/R-8 Kit 03/Percussion/Clap.wav\",\n",
    "    \"Roland/Roland R-8/R-8 Kit 03/Percussion/Conga.wav\",\n",
    "    \"Roland/Roland R-8/R-8 Kit 03/Percussion/Cowbell.wav\",\n",
    "    \"Roland/Roland_MC-303/Roland MC-303/Achitom1.wav\",\n",
    "    \"Roland/Roland_MC-303/Roland MC-303/Achitom2.wav\",\n",
    "    \"Roland/Roland_MC-303/Roland MC-303/Aclotom1.wav\",\n",
    "    \"Roland/Roland_MC-303/Roland MC-303/Aclotom2.wav\",\n",
    "    \"Roland/Roland_MC-303/Roland MC-303/Acmidtm2.wav\",\n",
    "    \"Roland/Roland_MC-303/Roland MC-303/Acmidtom.wav\",\n",
    "    \"Ruby Orla/Ruby Orla - Snare.wav\",\n",
    "    \"SC-40 Bassdrums/SC40BD001.aif\",\n",
    "    \"SC-40 Bassdrums/SC40BD002.aif\",\n",
    "    \"SC-40 Bassdrums/SC40BD003.aif\",\n",
    "    \"SC-40 Bassdrums/SC40BD005.aif\",\n",
    "    \"SC-40 Bassdrums/SC40BD008.aif\",\n",
    "    \"SimmonsSDS5/Simmons SDS5/BASSDRUM/BDRUM11.WAV\",\n",
    "    \"SimmonsSDS5/Simmons SDS5/BASSDRUM/BDRUM12.WAV\",\n",
    "    \"SimmonsSDS5/Simmons SDS5/BASSDRUM/BDRUM12.WAV.asd\",\n",
    "    \"SimmonsSDS5/Simmons SDS5/BASSDRUM/BDRUM2.WAV\",\n",
    "    \"Virus TI/virus_ti_drums/cw_virus_bd05.wav\",\n",
    "    \"Virus TI/virus_ti_drums/cw_virus_bd06.wav\",\n",
    "    \"Virus TI/virus_ti_drums/cw_virus_bd07.wav\",\n",
    "    \"Virus TI/virus_ti_drums/cw_virus_bd08.wav\",\n",
    "    \"Virus TI/virus_ti_drums/cw_virus_bd09.wav\",\n",
    "    \"Virus TI/virus_ti_drums/cw_virus_bd10.wav\",\n",
    "    \"Yamaha/Yamaha RX-17/RX17 SHAKER.wav\",\n",
    "    \"Yamaha/Yamaha RX-17/RX17 TIMBL H.wav\",\n",
    "    \"Yamaha/Yamaha RX-17/RX17 TIMBL L.wav\",\n",
    "    \"Yamaha/Yamaha RY-30/RY30 Kit 01/BDRUM04.WAV\",\n",
    "    \"Yamaha/Yamaha RY-30/RY30 Kit 01/BDRUM05.WAV\",\n",
    "    \"Yamaha/Yamaha RY-30/RY30 Kit 01/BDRUM06.WAV\",\n",
    "    \"Yamaha/Yamaha RY-30/RY30 Kit 01/BDRUM07.WAV\",\n",
    "    \"visco/VISCO/SNARES/SNARE3.WAV\",\n",
    "    \"visco/VISCO/TOMTOMS/TOM1.WAV\",\n",
    "    \"visco/VISCO/TOMTOMS/TOM2.WAV\",\n",
    "    \"visco/VISCO/TOMTOMS/TOM3.WAV\",\n",
    "    \"visco/VISCO/TOMTOMS/TOM4.WAV\"\n",
    "]"
   ]
  },
  {
   "cell_type": "code",
   "execution_count": 26,
   "metadata": {
    "collapsed": false
   },
   "outputs": [
    {
     "data": {
      "text/plain": [
       "{'Producer kits': [{'A97_74_HhS1_eLAB_HitzOn.wav': [],\n",
       "   'A97_75_HhH1_eLAB_HotDog.wav': [],\n",
       "   'A97_76_HhS3_eLAB_HotDog.wav': [],\n",
       "   'A97_77_HhH1_eLAB_ANuDay.wav': []}],\n",
       " 'Roland': [{'Roland F-30 drums': [],\n",
       "   'Roland JD-800': [],\n",
       "   'Roland R-8': [],\n",
       "   'Roland_MC-303': []}],\n",
       " 'Ruby Orla': [{'Ruby Orla - Snare.wav': []}],\n",
       " 'SC-40 Bassdrums': [{'SC40BD001.aif': [],\n",
       "   'SC40BD002.aif': [],\n",
       "   'SC40BD003.aif': [],\n",
       "   'SC40BD005.aif': [],\n",
       "   'SC40BD008.aif': []}],\n",
       " 'SimmonsSDS5': [{'Simmons SDS5': []}],\n",
       " 'Virus TI': [{'virus_ti_drums': []}],\n",
       " 'Yamaha': [{'Yamaha RX-17': [], 'Yamaha RY-30': []}],\n",
       " 'visco': [{'VISCO': []}]}"
      ]
     },
     "execution_count": 26,
     "metadata": {},
     "output_type": "execute_result"
    }
   ],
   "source": [
    "file_path_lists = [f.split('/') for f in fns]\n",
    "d1_set = set([f.split('/')[0] for f in fns])\n",
    "file_path_lists\n",
    "\n",
    "\n",
    "def build_path_dict(file_path_list, level):\n",
    "    path_dict = {}\n",
    "\n",
    "    name = file_path_list[level]\n",
    "    path_dict['name'] = name\n",
    "    \n",
    "    if '.' not in name:\n",
    "        children = []\n",
    "        path_dict['children'] = children\n",
    "        \n",
    "\n",
    "    \n",
    "    \n",
    "        \n",
    "        \n",
    "    \n",
    "    return \n",
    "def build_tree_dict(file_path_lists):\n",
    "#   create dict from top-level directories\n",
    "    tree = {k[0]:[] for k in file_path_lists}\n",
    "    \n",
    "    for directory in tree.keys():\n",
    "        next_level_tree = {k[1]:[] for k in file_path_lists if k[0] == directory}\n",
    "        tree[directory].append(next_level_tree)\n",
    "        \n",
    "#     for path_list in file_path_lists:\n",
    "#         level = path_list[0]\n",
    "#         tree[level] = []\n",
    "        \n",
    "    \n",
    "\n",
    "    return tree\n",
    "\n",
    "\n",
    "build_tree_dict(file_path_lists)"
   ]
  },
  {
   "cell_type": "code",
   "execution_count": 27,
   "metadata": {
    "collapsed": false
   },
   "outputs": [
    {
     "data": {
      "text/plain": [
       "{'Producer kits': {'files': [{'id': 0,\n",
       "    'name': 'A97_74_HhS1_eLAB_HitzOn',\n",
       "    'path': 'Producer kits/A97_74_HhS1_eLAB_HitzOn.wav'},\n",
       "   {'id': 1,\n",
       "    'name': 'A97_75_HhH1_eLAB_HotDog',\n",
       "    'path': 'Producer kits/A97_75_HhH1_eLAB_HotDog.wav'},\n",
       "   {'id': 2,\n",
       "    'name': 'A97_76_HhS3_eLAB_HotDog',\n",
       "    'path': 'Producer kits/A97_76_HhS3_eLAB_HotDog.wav'},\n",
       "   {'id': 3,\n",
       "    'name': 'A97_77_HhH1_eLAB_ANuDay',\n",
       "    'path': 'Producer kits/A97_77_HhH1_eLAB_ANuDay.wav'}]},\n",
       " 'Roland': {'files': [{'id': 4,\n",
       "    'name': 'MaxV - F30 - 05',\n",
       "    'path': 'Roland/Roland F-30 drums/MaxV - F30 - 05.wav'},\n",
       "   {'id': 5,\n",
       "    'name': 'MaxV - F30 - 06',\n",
       "    'path': 'Roland/Roland F-30 drums/MaxV - F30 - 06.wav'},\n",
       "   {'id': 6,\n",
       "    'name': 'JD800 Dance Card Drums 001',\n",
       "    'path': 'Roland/Roland JD-800/JD800 Dance Card Drums 001.wav'},\n",
       "   {'id': 7,\n",
       "    'name': 'JD800 Dance Card Drums 002',\n",
       "    'path': 'Roland/Roland JD-800/JD800 Dance Card Drums 002.wav'},\n",
       "   {'id': 8,\n",
       "    'name': 'JD800 Dance Card Drums 003',\n",
       "    'path': 'Roland/Roland JD-800/JD800 Dance Card Drums 003.wav'},\n",
       "   {'id': 9,\n",
       "    'name': 'Cabasa1',\n",
       "    'path': 'Roland/Roland R-8/R-8 Kit 03/Percussion/Cabasa1.wav'},\n",
       "   {'id': 10,\n",
       "    'name': 'Cabasa2',\n",
       "    'path': 'Roland/Roland R-8/R-8 Kit 03/Percussion/Cabasa2.wav'},\n",
       "   {'id': 11,\n",
       "    'name': 'Clap',\n",
       "    'path': 'Roland/Roland R-8/R-8 Kit 03/Percussion/Clap.wav'},\n",
       "   {'id': 12,\n",
       "    'name': 'Conga',\n",
       "    'path': 'Roland/Roland R-8/R-8 Kit 03/Percussion/Conga.wav'},\n",
       "   {'id': 13,\n",
       "    'name': 'Cowbell',\n",
       "    'path': 'Roland/Roland R-8/R-8 Kit 03/Percussion/Cowbell.wav'},\n",
       "   {'id': 14,\n",
       "    'name': 'Achitom1',\n",
       "    'path': 'Roland/Roland_MC-303/Roland MC-303/Achitom1.wav'},\n",
       "   {'id': 15,\n",
       "    'name': 'Achitom2',\n",
       "    'path': 'Roland/Roland_MC-303/Roland MC-303/Achitom2.wav'},\n",
       "   {'id': 16,\n",
       "    'name': 'Aclotom1',\n",
       "    'path': 'Roland/Roland_MC-303/Roland MC-303/Aclotom1.wav'},\n",
       "   {'id': 17,\n",
       "    'name': 'Aclotom2',\n",
       "    'path': 'Roland/Roland_MC-303/Roland MC-303/Aclotom2.wav'},\n",
       "   {'id': 18,\n",
       "    'name': 'Acmidtm2',\n",
       "    'path': 'Roland/Roland_MC-303/Roland MC-303/Acmidtm2.wav'},\n",
       "   {'id': 19,\n",
       "    'name': 'Acmidtom',\n",
       "    'path': 'Roland/Roland_MC-303/Roland MC-303/Acmidtom.wav'}]},\n",
       " 'Ruby Orla': {'files': [{'id': 20,\n",
       "    'name': 'Ruby Orla - Snare',\n",
       "    'path': 'Ruby Orla/Ruby Orla - Snare.wav'}]},\n",
       " 'SC-40 Bassdrums': {'files': [{'id': 21,\n",
       "    'name': 'SC40BD001',\n",
       "    'path': 'SC-40 Bassdrums/SC40BD001.aif'},\n",
       "   {'id': 22, 'name': 'SC40BD002', 'path': 'SC-40 Bassdrums/SC40BD002.aif'},\n",
       "   {'id': 23, 'name': 'SC40BD003', 'path': 'SC-40 Bassdrums/SC40BD003.aif'},\n",
       "   {'id': 24, 'name': 'SC40BD005', 'path': 'SC-40 Bassdrums/SC40BD005.aif'},\n",
       "   {'id': 25, 'name': 'SC40BD008', 'path': 'SC-40 Bassdrums/SC40BD008.aif'}]},\n",
       " 'SimmonsSDS5': {'files': [{'id': 26,\n",
       "    'name': 'BDRUM11',\n",
       "    'path': 'SimmonsSDS5/Simmons SDS5/BASSDRUM/BDRUM11.WAV'},\n",
       "   {'id': 27,\n",
       "    'name': 'BDRUM12',\n",
       "    'path': 'SimmonsSDS5/Simmons SDS5/BASSDRUM/BDRUM12.WAV'},\n",
       "   {'id': 28,\n",
       "    'name': 'BDRUM12',\n",
       "    'path': 'SimmonsSDS5/Simmons SDS5/BASSDRUM/BDRUM12.WAV.asd'},\n",
       "   {'id': 29,\n",
       "    'name': 'BDRUM2',\n",
       "    'path': 'SimmonsSDS5/Simmons SDS5/BASSDRUM/BDRUM2.WAV'}]},\n",
       " 'Virus TI': {'files': [{'id': 30,\n",
       "    'name': 'cw_virus_bd05',\n",
       "    'path': 'Virus TI/virus_ti_drums/cw_virus_bd05.wav'},\n",
       "   {'id': 31,\n",
       "    'name': 'cw_virus_bd06',\n",
       "    'path': 'Virus TI/virus_ti_drums/cw_virus_bd06.wav'},\n",
       "   {'id': 32,\n",
       "    'name': 'cw_virus_bd07',\n",
       "    'path': 'Virus TI/virus_ti_drums/cw_virus_bd07.wav'},\n",
       "   {'id': 33,\n",
       "    'name': 'cw_virus_bd08',\n",
       "    'path': 'Virus TI/virus_ti_drums/cw_virus_bd08.wav'},\n",
       "   {'id': 34,\n",
       "    'name': 'cw_virus_bd09',\n",
       "    'path': 'Virus TI/virus_ti_drums/cw_virus_bd09.wav'},\n",
       "   {'id': 35,\n",
       "    'name': 'cw_virus_bd10',\n",
       "    'path': 'Virus TI/virus_ti_drums/cw_virus_bd10.wav'}]},\n",
       " 'Yamaha': {'files': [{'id': 36,\n",
       "    'name': 'RX17 SHAKER',\n",
       "    'path': 'Yamaha/Yamaha RX-17/RX17 SHAKER.wav'},\n",
       "   {'id': 37,\n",
       "    'name': 'RX17 TIMBL H',\n",
       "    'path': 'Yamaha/Yamaha RX-17/RX17 TIMBL H.wav'},\n",
       "   {'id': 38,\n",
       "    'name': 'RX17 TIMBL L',\n",
       "    'path': 'Yamaha/Yamaha RX-17/RX17 TIMBL L.wav'},\n",
       "   {'id': 39,\n",
       "    'name': 'BDRUM04',\n",
       "    'path': 'Yamaha/Yamaha RY-30/RY30 Kit 01/BDRUM04.WAV'},\n",
       "   {'id': 40,\n",
       "    'name': 'BDRUM05',\n",
       "    'path': 'Yamaha/Yamaha RY-30/RY30 Kit 01/BDRUM05.WAV'},\n",
       "   {'id': 41,\n",
       "    'name': 'BDRUM06',\n",
       "    'path': 'Yamaha/Yamaha RY-30/RY30 Kit 01/BDRUM06.WAV'},\n",
       "   {'id': 42,\n",
       "    'name': 'BDRUM07',\n",
       "    'path': 'Yamaha/Yamaha RY-30/RY30 Kit 01/BDRUM07.WAV'}]},\n",
       " 'visco': {'files': [{'id': 43,\n",
       "    'name': 'SNARE3',\n",
       "    'path': 'visco/VISCO/SNARES/SNARE3.WAV'},\n",
       "   {'id': 44, 'name': 'TOM1', 'path': 'visco/VISCO/TOMTOMS/TOM1.WAV'},\n",
       "   {'id': 45, 'name': 'TOM2', 'path': 'visco/VISCO/TOMTOMS/TOM2.WAV'},\n",
       "   {'id': 46, 'name': 'TOM3', 'path': 'visco/VISCO/TOMTOMS/TOM3.WAV'},\n",
       "   {'id': 47, 'name': 'TOM4', 'path': 'visco/VISCO/TOMTOMS/TOM4.WAV'}]}}"
      ]
     },
     "execution_count": 27,
     "metadata": {},
     "output_type": "execute_result"
    }
   ],
   "source": [
    "paths_json = { top_lev_dir: { 'files': [] } for top_lev_dir in list(d1_set)}\n",
    "directory_json = {'directories': []}\n",
    "\n",
    "for idx, path in enumerate(file_path_lists):\n",
    "\n",
    "    file_dict = {}\n",
    "\n",
    "    file_dict['id'] = idx\n",
    "    file_dict['path'] = '/'.join(path)\n",
    "\n",
    "    filename_ext = [level for level in path if '.' in level][0].split('.')\n",
    "    \n",
    "    if filename_ext[1] in ['wav', 'WAV', 'aif', 'AIF', 'aiff', 'AIFF']:\n",
    "        file_dict['name'] = filename_ext[0]\n",
    "        \n",
    "    if filename_ext[1] in ['gif', 'GIF', 'jpeg', 'jpg']:\n",
    "        file_dict['img'] = filename_ext[0]\n",
    "        \n",
    "\n",
    "    paths_json[path[0]]['files'].append(file_dict)\n",
    "\n",
    "    directory_json['directories'].append({})\n",
    "    \n",
    "\n",
    "paths_json"
   ]
  },
  {
   "cell_type": "code",
   "execution_count": 6,
   "metadata": {
    "collapsed": false
   },
   "outputs": [
    {
     "ename": "SyntaxError",
     "evalue": "invalid syntax (<ipython-input-6-8d6f682cfc29>, line 16)",
     "output_type": "error",
     "traceback": [
      "\u001b[0;36m  File \u001b[0;32m\"<ipython-input-6-8d6f682cfc29>\"\u001b[0;36m, line \u001b[0;32m16\u001b[0m\n\u001b[0;31m    'file_ids': [1, 2, 3],\u001b[0m\n\u001b[0m              ^\u001b[0m\n\u001b[0;31mSyntaxError\u001b[0m\u001b[0;31m:\u001b[0m invalid syntax\n"
     ]
    }
   ],
   "source": [
    "# {\n",
    "#     'dir': 'top level name',\n",
    "#     'files': [\n",
    "#         {\n",
    "#             name: 'a.wav',\n",
    "#             path: 'a/b/c/a.wav',\n",
    "#             id: 1,\n",
    "#         }\n",
    "#     ],\n",
    "# }\n",
    "\n",
    "\n",
    "# {\n",
    "#     'id': 1,\n",
    "#     'dir': 'top level name'\n",
    "#     'file_ids': [1, 2, 3],\n",
    "# }\n",
    "\n"
   ]
  },
  {
   "cell_type": "code",
   "execution_count": null,
   "metadata": {
    "collapsed": true
   },
   "outputs": [],
   "source": []
  },
  {
   "cell_type": "code",
   "execution_count": null,
   "metadata": {
    "collapsed": false
   },
   "outputs": [],
   "source": []
  },
  {
   "cell_type": "code",
   "execution_count": null,
   "metadata": {
    "collapsed": false,
    "scrolled": true
   },
   "outputs": [],
   "source": []
  },
  {
   "cell_type": "code",
   "execution_count": null,
   "metadata": {
    "collapsed": true
   },
   "outputs": [],
   "source": []
  },
  {
   "cell_type": "code",
   "execution_count": null,
   "metadata": {
    "collapsed": true
   },
   "outputs": [],
   "source": []
  },
  {
   "cell_type": "code",
   "execution_count": 20,
   "metadata": {
    "collapsed": false
   },
   "outputs": [
    {
     "data": {
      "application/javascript": [
       "console.log(document)"
      ],
      "text/plain": [
       "<IPython.core.display.Javascript object>"
      ]
     },
     "metadata": {},
     "output_type": "display_data"
    }
   ],
   "source": []
  },
  {
   "cell_type": "code",
   "execution_count": null,
   "metadata": {
    "collapsed": false
   },
   "outputs": [],
   "source": []
  },
  {
   "cell_type": "code",
   "execution_count": null,
   "metadata": {
    "collapsed": false
   },
   "outputs": [],
   "source": []
  },
  {
   "cell_type": "code",
   "execution_count": 18,
   "metadata": {
    "collapsed": false
   },
   "outputs": [
    {
     "ename": "KeyError",
     "evalue": "'a.b'",
     "output_type": "error",
     "traceback": [
      "\u001b[0;31m---------------------------------------------------------------------------\u001b[0m",
      "\u001b[0;31mKeyError\u001b[0m                                  Traceback (most recent call last)",
      "\u001b[0;32m<ipython-input-18-e71fa65cb4c1>\u001b[0m in \u001b[0;36m<module>\u001b[0;34m()\u001b[0m\n\u001b[0;32m----> 1\u001b[0;31m \u001b[0md\u001b[0m\u001b[0;34m.\u001b[0m\u001b[0m__getitem__\u001b[0m\u001b[0;34m(\u001b[0m\u001b[0;34m'a.b'\u001b[0m\u001b[0;34m)\u001b[0m\u001b[0;34m\u001b[0m\u001b[0m\n\u001b[0m",
      "\u001b[0;31mKeyError\u001b[0m: 'a.b'"
     ]
    }
   ],
   "source": []
  },
  {
   "cell_type": "code",
   "execution_count": null,
   "metadata": {
    "collapsed": true
   },
   "outputs": [],
   "source": []
  }
 ],
 "metadata": {
  "kernelspec": {
   "display_name": "Python 3",
   "language": "python",
   "name": "python3"
  }
 },
 "nbformat": 4,
 "nbformat_minor": 2
}
